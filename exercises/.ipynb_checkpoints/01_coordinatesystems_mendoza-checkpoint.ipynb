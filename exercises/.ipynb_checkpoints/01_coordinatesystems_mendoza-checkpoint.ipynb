{
 "cells": [
  {
   "cell_type": "markdown",
   "id": "3eeb8de2-e49a-4b4c-848f-1b0fdf8ad028",
   "metadata": {},
   "source": [
    "# Problem Set 1\n",
    "Exercises derived from [Calculus (OpenStax)](https://math.libretexts.org/Bookshelves/Calculus/Book%3A_Calculus_(OpenStax)/12%3A_Vectors_in_Space/12.07%3A_Cylindrical_and_Spherical_Coordinates)"
   ]
  },
  {
   "cell_type": "markdown",
   "id": "b8ac7834-9258-47a7-b636-4ea486a73659",
   "metadata": {
    "jp-MarkdownHeadingCollapsed": true
   },
   "source": [
    "## Cartesian and Cylindrical Coordinates\n",
    "\n",
    "![Cylindrical to Cartesian](assets/cylindrical_cartesian.png)\n",
    "\n",
    "The rectangular coordinates $(x,y,z)$ and cylindrical coordinates $(r, \\theta, z)$ of a point are related as follows:\n",
    "\n",
    "### Cylindrical to Rectangular\n",
    "- $x=r\\cos\\theta$\n",
    "- $y=r\\sin\\theta$\n",
    "- $z=z$\n",
    "\n",
    "### Rectangular to Cylindrical\n",
    "- $r^2=x^2+y^2$\n",
    "- $\\tan\\theta=\\frac{y}{x}$\n",
    "- $z=z$"
   ]
  },
  {
   "cell_type": "markdown",
   "id": "afa0244c-236f-4bed-ab22-f509535998df",
   "metadata": {},
   "source": [
    "## Exercise 1 \n",
    "Point $R$ has cylindrical coordinates $(5, \\frac{\\pi}{6},4)$. Convert this to rectangular coordinates.\n",
    "\n",
    "Use the cell (or cells, you can create new ones) below to calculate and print the values.\n",
    "\n",
    "__Hints:__ \n",
    "1. don't forget to ```import math```\n",
    "2. you can combine strings in numbers when you print by converting the number to string, and then adding the strings. e.g. ```print('x = ' + str(x))```\n",
    "3.  $\\pi$ is available from ```math.pi```\n",
    "4. read the python documentation for the [Trigonometric functions found in the ```math``` module](https://docs.python.org/3/library/math.html#trigonometric-functions).\n",
    "5. you can raise a variable to a certain power by using two asterisks (```**```), followed by the exponent. e.g., $x^2$ can be coded as ```x**2```\n",
    "6. PEMDAS: don't forget to group your mathematical expressions so that python will not be confused\n",
    "\n",
    "__Scoring__\n",
    "- 1pt for variable definition\n",
    "- 1pt for printed answers\n",
    "- 1pt if the code works"
   ]
  },
  {
   "cell_type": "code",
   "execution_count": 59,
   "id": "05a8caa3-8096-4bd5-9840-fad84c85b993",
   "metadata": {},
   "outputs": [],
   "source": [
    "import math"
   ]
  },
  {
   "cell_type": "code",
   "execution_count": 60,
   "id": "7c2ae5e0-d26e-4a3a-a1c9-f33fe28a5301",
   "metadata": {},
   "outputs": [],
   "source": [
    "#Plug the given values into variables from the abovementioned data\n",
    "\n",
    "r = 5                     #r is the equivalent variable to x\n",
    "θ = math.pi/6             #θ is the equivalent variable to y\n",
    "z = 4                     #z remains as z"
   ]
  },
  {
   "cell_type": "code",
   "execution_count": 61,
   "id": "283540b4-aed3-4fd9-b4c8-db5764e288bf",
   "metadata": {},
   "outputs": [
    {
     "data": {
      "text/plain": [
       "int"
      ]
     },
     "execution_count": 61,
     "metadata": {},
     "output_type": "execute_result"
    }
   ],
   "source": [
    "type(z)"
   ]
  },
  {
   "cell_type": "code",
   "execution_count": 65,
   "id": "0f26cd42-7539-4659-98bb-054b94b7e50d",
   "metadata": {},
   "outputs": [],
   "source": [
    "#Plug in the cylindrical values along with the equations for rectangular coordinates\n",
    "x = r*math.cos(θ)\n",
    "y = r*math.sin(θ)\n",
    "z = z"
   ]
  },
  {
   "cell_type": "code",
   "execution_count": 66,
   "id": "6c5af846-4b3d-4303-856c-20474bafd187",
   "metadata": {},
   "outputs": [
    {
     "name": "stdout",
     "output_type": "stream",
     "text": [
      "4.330127018922194 2.4999999999999996\n"
     ]
    }
   ],
   "source": [
    "#Check the variables if it contains the computed converted values (note that variable z remains constant)\n",
    "print(x,y)"
   ]
  },
  {
   "cell_type": "code",
   "execution_count": 67,
   "id": "ac4b8745-2655-475a-85bf-12129eb48188",
   "metadata": {
    "scrolled": true
   },
   "outputs": [
    {
     "name": "stdout",
     "output_type": "stream",
     "text": [
      "The rectangular coordinates are:\n",
      "x = 4.330127018922194\n",
      "y = 2.4999999999999996\n",
      "z = 4\n"
     ]
    }
   ],
   "source": [
    "#Print the converted coordinates properly\n",
    "\n",
    "print(\"The rectangular coordinates are:\") \n",
    "print(\"x =\", x)\n",
    "print(\"y =\", y)\n",
    "print(\"z =\", z)"
   ]
  },
  {
   "cell_type": "markdown",
   "id": "c17617b8-0fcc-4056-b9c5-aad2eddd6ba2",
   "metadata": {},
   "source": [
    "## Exercise 2\n",
    "Convert the rectangular coordinates $(-8,8,7)$ to cylindrical coordinates. Use the cell/s below to calculate and print the values.\n",
    "\n",
    "__Hints__:\n",
    "1. When solving for $\\theta$, we take the arctangent, i.e. $\\theta=\\arctan(\\frac{y}{x})$. While it might be tempting to use ```math.atan(y/x)``` directly, take note that the signs of both y and x are known (i.e. we know the proper quadrants). Use ```math.atan2(y,x)``` instead. Again, refer to the [Trigonometric functions found in the ```math``` module](https://docs.python.org/3/library/math.html#trigonometric-functions). You can read about the atan2 function in [this Wikipedia article](https://en.wikipedia.org/wiki/Atan2).\n",
    "\n",
    "__Scoring__\n",
    "- 1pt for variable definition\n",
    "- 1pt for printed answers\n",
    "- 1pt if the code works"
   ]
  },
  {
   "cell_type": "code",
   "execution_count": 68,
   "id": "2c6bb68f-1133-4c6c-9dbe-cc71d9217681",
   "metadata": {},
   "outputs": [],
   "source": [
    "#First plug in the values into the variables(note that this will override the previously contained values in the variables, therefore we will not run the cells in the prior exercise to preserve the printed results\n",
    "\n",
    "x = -8     #x is the equivalent variable to r \n",
    "y = 8      #y is the equivalent variable to θ\n",
    "z = 7      #z remains as z"
   ]
  },
  {
   "cell_type": "code",
   "execution_count": 69,
   "id": "794fbf20-bad5-42e5-9bfc-e333e2a75359",
   "metadata": {},
   "outputs": [
    {
     "name": "stdout",
     "output_type": "stream",
     "text": [
      "11.313708498984761 2.356194490192345\n"
     ]
    }
   ],
   "source": [
    "#Plug the variables into the equation for converting rectangular coordinates into cylindrical coordinates\n",
    "\n",
    "r = math.sqrt(x**2 + y**2)\n",
    "θ = math.atan2(y,x)\n",
    "\n",
    "#Then print the r and theta to check if it will show the computed values\n",
    "print(r, θ)"
   ]
  },
  {
   "cell_type": "code",
   "execution_count": 70,
   "id": "c0d1eb4c-c60f-4533-962e-5b0fbb405e63",
   "metadata": {
    "scrolled": true
   },
   "outputs": [
    {
     "name": "stdout",
     "output_type": "stream",
     "text": [
      "The cylindrical coordinates are as follows:\n",
      "r = 11.313708498984761\n",
      "θ = 2.356194490192345\n",
      "z = 7\n"
     ]
    }
   ],
   "source": [
    "print(\"The cylindrical coordinates are as follows:\")\n",
    "print(\"r =\", r)\n",
    "print(\"θ =\", θ)\n",
    "print(\"z =\", z)"
   ]
  },
  {
   "cell_type": "markdown",
   "id": "e5ec72a4-3441-4fd0-b95a-7f2704ef0ead",
   "metadata": {},
   "source": [
    "## Spherical, Cylindrical, and Cartesian Coordinates\n",
    "![Spherical to Cartesian](assets/spherical_cartesian.png)\n",
    "\n",
    "Rectangular coordinates $(x,y,z)$, cylindrical coordinates $(r,\\theta,z)$, and spherical coordinates $(\\rho,\\theta,\\varphi)$ of a point are related as follows:\n",
    "\n",
    "### Spherical to Rectangular\n",
    "- $x = \\rho\\sin\\varphi\\cos\\theta$\n",
    "- $y = \\rho\\sin\\varphi\\sin\\theta$\n",
    "- $z = \\rho\\cos\\varphi$\n",
    "\n",
    "### Rectangular to Spherical\n",
    "- $\\rho^2 = x^2  + y^2 + z^2$\n",
    "- $\\tan\\theta = \\frac{y}{x}$\n",
    "- $\\varphi = \\arccos(\\frac{z}{\\sqrt{x^2  + y^2 + z^2}})$\n",
    "\n",
    "### Spherical to Cylindrical\n",
    "- $r = \\rho\\sin\\varphi$\n",
    "- $\\theta=\\theta$\n",
    "- $z = \\rho\\cos\\varphi$\n",
    "\n",
    "### Cylindrical to Spherical\n",
    "- $\\rho=\\sqrt{r^2+z^2}$\n",
    "- $\\theta=\\theta$\n",
    "- $\\varphi = \\arccos(\\frac{z}{\\sqrt{r^2+z^2}})$\n",
    "\n",
    "So with all three combined....\n",
    "\n",
    "![Spherical to Cartesian to Cylindrical](assets/cylindrical_cartesian_spherical.jpg)"
   ]
  },
  {
   "cell_type": "markdown",
   "id": "9289d8e4-e3e4-4686-8390-f0263ce1f604",
   "metadata": {},
   "source": [
    "## Exercise 3\n",
    "### Converting from Spherical Coordinates\n",
    "Convert the spherical coordinate $(8, \\frac{\\pi}{3}, \\frac{\\pi}{6})$ to both rectangular and cylindrical coordinates. Use the cell/s below to calculate and print the values.\n",
    "\n",
    "__Hints:__\n",
    "1. Use previous hints. \n",
    "2. When in trouble, ask BA.\n",
    "\n",
    "__Scoring__\n",
    "- 2pt for variable definition\n",
    "- 2pt for printed answers\n",
    "- 2pt if the code works\n"
   ]
  },
  {
   "cell_type": "code",
   "execution_count": 71,
   "id": "618a41ae-7af6-47dc-a97c-0085d0caa49e",
   "metadata": {},
   "outputs": [],
   "source": [
    "#Plug the given values into variables from the abovementioned data, with spherical variables denoted as (ρ, θ, φ)\n",
    "\n",
    "ρ = 8\n",
    "θ = math.pi/3\n",
    "φ = math.pi/6"
   ]
  },
  {
   "cell_type": "code",
   "execution_count": 72,
   "id": "f5839d36-987b-4885-8c3a-e97d272756d2",
   "metadata": {},
   "outputs": [],
   "source": [
    "#For the Cylindrical conversion\n",
    "\n",
    "r = ρ*math.sin(φ)\n",
    "θ = θ\n",
    "z = ρ*math.cos(φ)"
   ]
  },
  {
   "cell_type": "code",
   "execution_count": 73,
   "id": "8d83d8d8-a526-4530-9507-6953d1aad5d1",
   "metadata": {
    "scrolled": true
   },
   "outputs": [
    {
     "name": "stdout",
     "output_type": "stream",
     "text": [
      "The convertion of spherical coordinates into cylindrical coordinates are as follows:\n",
      "r = 3.9999999999999996\n",
      "θ = 1.0471975511965976\n",
      "z = 6.92820323027551\n"
     ]
    }
   ],
   "source": [
    "#Print for the converted values\n",
    "\n",
    "print(\"The convertion of spherical coordinates into cylindrical coordinates are as follows:\")\n",
    "print(\"r =\", r)\n",
    "print(\"θ =\", θ)\n",
    "print(\"z =\", z)"
   ]
  },
  {
   "cell_type": "code",
   "execution_count": 74,
   "id": "d639f141-fbd3-467f-9284-eb935fc27291",
   "metadata": {},
   "outputs": [],
   "source": [
    "#Repeat the same process for the rectangular coordinates, but change the equation\n",
    "\n",
    "x = ρ*math.sin(φ)*math.cos(θ)\n",
    "y = ρ*math.sin(φ)*math.sin(θ)\n",
    "z = ρ*math.cos(φ)"
   ]
  },
  {
   "cell_type": "code",
   "execution_count": 75,
   "id": "792f04d4-5e0c-45a9-9114-37ac29484e09",
   "metadata": {
    "scrolled": true
   },
   "outputs": [
    {
     "name": "stdout",
     "output_type": "stream",
     "text": [
      "The convertion of spherical coordinates into rectangular coordinates are as follows:\n",
      "x = 2.0\n",
      "y = 3.464101615137754\n",
      "z = 6.92820323027551\n"
     ]
    }
   ],
   "source": [
    "#Print for the converted values from spherical to rectangular coordinates\n",
    "\n",
    "print(\"The convertion of spherical coordinates into rectangular coordinates are as follows:\")\n",
    "print(\"x =\", x)\n",
    "print(\"y =\", y)\n",
    "print(\"z =\", z)"
   ]
  },
  {
   "cell_type": "markdown",
   "id": "740984ce-32b8-466d-80ba-aba111480208",
   "metadata": {},
   "source": [
    "## Exercise 4\n",
    "### Converting from Rectangular Coordinates\n",
    "Convert the rectangular coordinate $(-1, 1, \\sqrt{6})$ to both spherical and cylindrical coordinates. Use the cell/s below to calculate and print the values.\n",
    "\n",
    "__Scoring__\n",
    "- 2pt for variable definition\n",
    "- 2pt for printed answers\n",
    "- 2pt if the code works\n"
   ]
  },
  {
   "cell_type": "markdown",
   "id": "0211b86d-7f8d-4119-a842-2c5d9dac043b",
   "metadata": {},
   "source": [
    "### Rectangular to Spherical\n",
    "- $\\rho^2 = x^2  + y^2 + z^2$\n",
    "- $\\tan\\theta = \\frac{y}{x}$\n",
    "- $\\varphi = \\arccos(\\frac{z}{\\sqrt{x^2  + y^2 + z^2}})$\n",
    "### Rectangular to Cylindrical\n",
    "- $r^2=x^2+y^2$\n",
    "- $\\tan\\theta=\\frac{y}{x}$\n",
    "- $z=z$"
   ]
  },
  {
   "cell_type": "code",
   "execution_count": 76,
   "id": "da505a37-cff0-4aad-b301-585301e6658d",
   "metadata": {},
   "outputs": [],
   "source": [
    "#Plug the given values into the rectangular coordinates\n",
    "\n",
    "x = -1\n",
    "y = 1\n",
    "z = math.sqrt(6)"
   ]
  },
  {
   "cell_type": "code",
   "execution_count": 78,
   "id": "cebb726a-4353-4df6-89cb-0c4a3404aeeb",
   "metadata": {},
   "outputs": [],
   "source": [
    "#The rectangular coordinates (x, y, z) are equivalent to cylindrical (r, θ, z) and spherical (ρ, θ, φ) coordinates\n",
    "\n",
    "#The spherical formula is as follows:\n",
    "ρ = math.sqrt(x**2 + y**2 + z**2)\n",
    "θ = math.atan2(y, x)\n",
    "φ = math.acos(z/math.sqrt(x**2 + y**2 + z**2))\n",
    "\n",
    "#The cylindrical formula is as follows:\n",
    "r = math.sqrt(x**2 + y**2)\n",
    "θ = math.atan2(y, x)\n",
    "z = z"
   ]
  },
  {
   "cell_type": "code",
   "execution_count": 83,
   "id": "bb265374-dc90-49e8-93b4-abd2b32da664",
   "metadata": {
    "scrolled": true
   },
   "outputs": [
    {
     "name": "stdout",
     "output_type": "stream",
     "text": [
      "The convertion of rectangular coordinates into spherical coordinates are as follows:\n",
      "ρ = 6370\n",
      "θ = 14.6439\n",
      "φ = 121.0443\n",
      "The convertion of rectangular coordinates into cylindrical coordinates  are as follows:\n",
      "r = 6342.482935894887\n",
      "θ = 14.6439\n",
      "z = -591.4475529429245\n"
     ]
    }
   ],
   "source": [
    "#Print the converted values of spherical and cylindrical coordinates\n",
    "\n",
    "print(\"The convertion of rectangular coordinates into spherical coordinates are as follows:\")\n",
    "print(\"ρ =\", ρ)\n",
    "print(\"θ =\", θ)\n",
    "print(\"φ =\", φ)\n",
    "\n",
    "print(\"The convertion of rectangular coordinates into cylindrical coordinates  are as follows:\")\n",
    "print(\"r =\", r)\n",
    "print(\"θ =\", θ)\n",
    "print(\"z =\", z)"
   ]
  },
  {
   "cell_type": "markdown",
   "id": "af132676-b997-4b12-badf-6e5e54d08284",
   "metadata": {},
   "source": [
    "### Why consider spherical coordinates?\n",
    "\n",
    "Spherical coordinates are useful in analyzing systems that have some degree of symmetry about a point, such as the volume of the space inside a domed stadium or wind speeds in a planet’s atmosphere. A sphere that has Cartesian equation  $x^2+y^2+z^2=c^2$ has the simple equation $\\rho=c$ in spherical coordinates.\n",
    "\n",
    "In geography, latitude and longitude are used to describe locations on Earth’s surface, as shown in the figure below. Although the shape of Earth is not a perfect sphere, we use spherical coordinates to communicate the locations of points on Earth. Let’s assume Earth has the shape of a sphere with radius  $6,371$km. We express angle measures in degrees rather than radians because latitude and longitude are measured in degrees.\n",
    "\n",
    "![Globe](assets/earth.png)\n",
    "\n",
    "Let the center of Earth be the center of the sphere, with the ray from the center through the North Pole representing the positive $z$-axis. The prime meridian represents the trace of the surface as it intersects the $xz$-plane. The equator is the trace of the sphere intersecting the $xy$-plane."
   ]
  },
  {
   "cell_type": "markdown",
   "id": "dca420dd-3caf-46bf-b830-e5f540d3af65",
   "metadata": {},
   "source": [
    "### Example: Converting Latitude and Longitude to Spherical Coordinates\n",
    "\n",
    "Say that PAGASA Science Garden is located at $14.6439°$N , $121.0443°$E. Imagine that in the spherical coordinate system, the equator (or $0°$ latitude) is $\\varphi=0$, while the prime meridian ($0°$ longitude) is $\\theta=0$.\n",
    "\n",
    "We can then represent the radius of the Earth ($6,371$km), and the provided latitude and longitude into Spherical coordinates as follows...\n",
    "- $\\rho = 6370$\n",
    "- $\\varphi = 14.6439$\n",
    "- $\\theta = 121.0443$"
   ]
  },
  {
   "cell_type": "markdown",
   "id": "7e8ae055-b8e9-47d6-9ef0-2796e5f2f8cd",
   "metadata": {},
   "source": [
    "### Challenge\n",
    "Convert the given PAGASA Science Garden coordinates to rectangular and cylindrical coordinates. Use the cell/s below."
   ]
  },
  {
   "cell_type": "markdown",
   "id": "0a6cef32-fc77-4c8f-a0a1-9d02c42f5447",
   "metadata": {},
   "source": [
    "### Spherical to Cylindrical\n",
    "- $r = \\rho\\sin\\varphi$\n",
    "- $\\theta=\\theta$\n",
    "- $z = \\rho\\cos\\varphi$\n",
    "### Spherical to Rectangular\n",
    "- $x = \\rho\\sin\\varphi\\cos\\theta$\n",
    "- $y = \\rho\\sin\\varphi\\sin\\theta$\n",
    "- $z = \\rho\\cos\\varphi$"
   ]
  },
  {
   "cell_type": "code",
   "execution_count": 80,
   "id": "52626b05-0e81-4337-8c48-c8115b2b4c67",
   "metadata": {},
   "outputs": [],
   "source": [
    "#Plug the values into the spherical coordinates:\n",
    "\n",
    "ρ = 6370\n",
    "θ = 14.6439\n",
    "φ = 121.0443"
   ]
  },
  {
   "cell_type": "code",
   "execution_count": 85,
   "id": "d938067c-339e-4e4a-95ab-45b9f1d377d0",
   "metadata": {},
   "outputs": [],
   "source": [
    "#Convert the values into cylindrical and rectangular\n",
    "\n",
    "#For Cylindrical:\n",
    "r = ρ*math.sin(φ)\n",
    "θ = θ \n",
    "z = ρ*math.cos(φ)\n",
    "\n",
    "#For Rectangular:\n",
    "x = ρ*math.sin(φ)*math.cos(θ)\n",
    "y = ρ*math.sin(φ)*math.sin(θ)\n",
    "z = ρ*math.cos(φ)"
   ]
  },
  {
   "cell_type": "code",
   "execution_count": 87,
   "id": "c00fa96b-f989-4c81-9274-80c5451e8b2a",
   "metadata": {
    "scrolled": true
   },
   "outputs": [
    {
     "name": "stdout",
     "output_type": "stream",
     "text": [
      "The convertion of spherical coordinates into rectangular coordinates are as follows:\n",
      "r = 6342.482935894887\n",
      "θ = 14.6439\n",
      "z = -591.4475529429245\n",
      "The convertion of spherical coordinates into rectangular coordinates are as follows:\n",
      "x = -3078.1556484718803\n",
      "y = 5545.452875635901\n",
      "z = -591.4475529429245\n"
     ]
    }
   ],
   "source": [
    "#Print the converted coordinates for cylindrical and rectangular\n",
    "\n",
    "\n",
    "print(\"The convertion of spherical coordinates into rectangular coordinates are as follows:\")\n",
    "print(\"r =\", r)\n",
    "print(\"θ =\", θ)\n",
    "print(\"z =\", z)\n",
    "\n",
    "print(\"The convertion of spherical coordinates into rectangular coordinates are as follows:\")\n",
    "print(\"x =\", x)\n",
    "print(\"y =\", y)\n",
    "print(\"z =\", z)"
   ]
  },
  {
   "cell_type": "markdown",
   "id": "469f0717-96c9-4c09-bf13-fa183bf857c8",
   "metadata": {},
   "source": [
    "### Grading for this exercise\n",
    "\n",
    "Ex 1: 3pts  \n",
    "Ex 2: 3pts  \n",
    "Ex 3: 6pts  \n",
    "Ex 4: 6pts  \n",
    "__Total__: 18pts  "
   ]
  },
  {
   "cell_type": "code",
   "execution_count": null,
   "id": "50508a6d-eeae-498a-aced-6e6fefa3f1ee",
   "metadata": {},
   "outputs": [],
   "source": []
  },
  {
   "cell_type": "code",
   "execution_count": null,
   "id": "15bd4250-3a89-4af3-95e0-e0e5e465948e",
   "metadata": {},
   "outputs": [],
   "source": []
  }
 ],
 "metadata": {
  "kernelspec": {
   "display_name": "Python 3 (ipykernel)",
   "language": "python",
   "name": "python3"
  },
  "language_info": {
   "codemirror_mode": {
    "name": "ipython",
    "version": 3
   },
   "file_extension": ".py",
   "mimetype": "text/x-python",
   "name": "python",
   "nbconvert_exporter": "python",
   "pygments_lexer": "ipython3",
   "version": "3.12.2"
  }
 },
 "nbformat": 4,
 "nbformat_minor": 5
}
